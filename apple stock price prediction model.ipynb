{
 "cells": [
  {
   "cell_type": "markdown",
   "id": "6296ac32",
   "metadata": {},
   "source": [
    "# Apple stock price prediction"
   ]
  },
  {
   "cell_type": "code",
   "execution_count": 23,
   "id": "a4643c02",
   "metadata": {},
   "outputs": [],
   "source": [
    "import pandas as pd\n",
    "import numpy as np\n",
    "import matplotlib.pyplot as plt\n",
    "import seaborn as sns\n",
    "%matplotlib inline\n"
   ]
  },
  {
   "cell_type": "markdown",
   "id": "4327d935",
   "metadata": {},
   "source": [
    "# data cleaning"
   ]
  },
  {
   "cell_type": "code",
   "execution_count": 3,
   "id": "17d822b2",
   "metadata": {},
   "outputs": [],
   "source": [
    "df=pd.read_csv(\"AAPL.csv\")"
   ]
  },
  {
   "cell_type": "code",
   "execution_count": 4,
   "id": "1278b584",
   "metadata": {},
   "outputs": [
    {
     "data": {
      "text/html": [
       "<div>\n",
       "<style scoped>\n",
       "    .dataframe tbody tr th:only-of-type {\n",
       "        vertical-align: middle;\n",
       "    }\n",
       "\n",
       "    .dataframe tbody tr th {\n",
       "        vertical-align: top;\n",
       "    }\n",
       "\n",
       "    .dataframe thead th {\n",
       "        text-align: right;\n",
       "    }\n",
       "</style>\n",
       "<table border=\"1\" class=\"dataframe\">\n",
       "  <thead>\n",
       "    <tr style=\"text-align: right;\">\n",
       "      <th></th>\n",
       "      <th>Date</th>\n",
       "      <th>Open</th>\n",
       "      <th>High</th>\n",
       "      <th>Low</th>\n",
       "      <th>Close</th>\n",
       "      <th>Adj Close</th>\n",
       "      <th>Volume</th>\n",
       "    </tr>\n",
       "  </thead>\n",
       "  <tbody>\n",
       "    <tr>\n",
       "      <th>0</th>\n",
       "      <td>2023-03-13</td>\n",
       "      <td>147.809998</td>\n",
       "      <td>153.139999</td>\n",
       "      <td>147.699997</td>\n",
       "      <td>150.470001</td>\n",
       "      <td>149.671097</td>\n",
       "      <td>84457100</td>\n",
       "    </tr>\n",
       "    <tr>\n",
       "      <th>1</th>\n",
       "      <td>2023-03-14</td>\n",
       "      <td>151.279999</td>\n",
       "      <td>153.399994</td>\n",
       "      <td>150.100006</td>\n",
       "      <td>152.589996</td>\n",
       "      <td>151.779846</td>\n",
       "      <td>73695900</td>\n",
       "    </tr>\n",
       "    <tr>\n",
       "      <th>2</th>\n",
       "      <td>2023-03-15</td>\n",
       "      <td>151.190002</td>\n",
       "      <td>153.250000</td>\n",
       "      <td>149.919998</td>\n",
       "      <td>152.990005</td>\n",
       "      <td>152.177719</td>\n",
       "      <td>77167900</td>\n",
       "    </tr>\n",
       "    <tr>\n",
       "      <th>3</th>\n",
       "      <td>2023-03-16</td>\n",
       "      <td>152.160004</td>\n",
       "      <td>156.460007</td>\n",
       "      <td>151.639999</td>\n",
       "      <td>155.850006</td>\n",
       "      <td>155.022537</td>\n",
       "      <td>76161100</td>\n",
       "    </tr>\n",
       "    <tr>\n",
       "      <th>4</th>\n",
       "      <td>2023-03-17</td>\n",
       "      <td>156.080002</td>\n",
       "      <td>156.740005</td>\n",
       "      <td>154.279999</td>\n",
       "      <td>155.000000</td>\n",
       "      <td>154.177048</td>\n",
       "      <td>98944600</td>\n",
       "    </tr>\n",
       "    <tr>\n",
       "      <th>...</th>\n",
       "      <td>...</td>\n",
       "      <td>...</td>\n",
       "      <td>...</td>\n",
       "      <td>...</td>\n",
       "      <td>...</td>\n",
       "      <td>...</td>\n",
       "      <td>...</td>\n",
       "    </tr>\n",
       "    <tr>\n",
       "      <th>245</th>\n",
       "      <td>2024-03-04</td>\n",
       "      <td>176.149994</td>\n",
       "      <td>176.899994</td>\n",
       "      <td>173.789993</td>\n",
       "      <td>175.100006</td>\n",
       "      <td>175.100006</td>\n",
       "      <td>81510100</td>\n",
       "    </tr>\n",
       "    <tr>\n",
       "      <th>246</th>\n",
       "      <td>2024-03-05</td>\n",
       "      <td>170.759995</td>\n",
       "      <td>172.039993</td>\n",
       "      <td>169.619995</td>\n",
       "      <td>170.119995</td>\n",
       "      <td>170.119995</td>\n",
       "      <td>95132400</td>\n",
       "    </tr>\n",
       "    <tr>\n",
       "      <th>247</th>\n",
       "      <td>2024-03-06</td>\n",
       "      <td>171.059998</td>\n",
       "      <td>171.240005</td>\n",
       "      <td>168.679993</td>\n",
       "      <td>169.119995</td>\n",
       "      <td>169.119995</td>\n",
       "      <td>68587700</td>\n",
       "    </tr>\n",
       "    <tr>\n",
       "      <th>248</th>\n",
       "      <td>2024-03-07</td>\n",
       "      <td>169.149994</td>\n",
       "      <td>170.729996</td>\n",
       "      <td>168.490005</td>\n",
       "      <td>169.000000</td>\n",
       "      <td>169.000000</td>\n",
       "      <td>71765100</td>\n",
       "    </tr>\n",
       "    <tr>\n",
       "      <th>249</th>\n",
       "      <td>2024-03-08</td>\n",
       "      <td>169.000000</td>\n",
       "      <td>173.699997</td>\n",
       "      <td>168.940002</td>\n",
       "      <td>170.729996</td>\n",
       "      <td>170.729996</td>\n",
       "      <td>76114600</td>\n",
       "    </tr>\n",
       "  </tbody>\n",
       "</table>\n",
       "<p>250 rows × 7 columns</p>\n",
       "</div>"
      ],
      "text/plain": [
       "           Date        Open        High         Low       Close   Adj Close  \\\n",
       "0    2023-03-13  147.809998  153.139999  147.699997  150.470001  149.671097   \n",
       "1    2023-03-14  151.279999  153.399994  150.100006  152.589996  151.779846   \n",
       "2    2023-03-15  151.190002  153.250000  149.919998  152.990005  152.177719   \n",
       "3    2023-03-16  152.160004  156.460007  151.639999  155.850006  155.022537   \n",
       "4    2023-03-17  156.080002  156.740005  154.279999  155.000000  154.177048   \n",
       "..          ...         ...         ...         ...         ...         ...   \n",
       "245  2024-03-04  176.149994  176.899994  173.789993  175.100006  175.100006   \n",
       "246  2024-03-05  170.759995  172.039993  169.619995  170.119995  170.119995   \n",
       "247  2024-03-06  171.059998  171.240005  168.679993  169.119995  169.119995   \n",
       "248  2024-03-07  169.149994  170.729996  168.490005  169.000000  169.000000   \n",
       "249  2024-03-08  169.000000  173.699997  168.940002  170.729996  170.729996   \n",
       "\n",
       "       Volume  \n",
       "0    84457100  \n",
       "1    73695900  \n",
       "2    77167900  \n",
       "3    76161100  \n",
       "4    98944600  \n",
       "..        ...  \n",
       "245  81510100  \n",
       "246  95132400  \n",
       "247  68587700  \n",
       "248  71765100  \n",
       "249  76114600  \n",
       "\n",
       "[250 rows x 7 columns]"
      ]
     },
     "execution_count": 4,
     "metadata": {},
     "output_type": "execute_result"
    }
   ],
   "source": [
    "df"
   ]
  },
  {
   "cell_type": "code",
   "execution_count": 5,
   "id": "bd7ec3af",
   "metadata": {},
   "outputs": [
    {
     "data": {
      "text/plain": [
       "<bound method NDFrame.head of            Date        Open        High         Low       Close   Adj Close  \\\n",
       "0    2023-03-13  147.809998  153.139999  147.699997  150.470001  149.671097   \n",
       "1    2023-03-14  151.279999  153.399994  150.100006  152.589996  151.779846   \n",
       "2    2023-03-15  151.190002  153.250000  149.919998  152.990005  152.177719   \n",
       "3    2023-03-16  152.160004  156.460007  151.639999  155.850006  155.022537   \n",
       "4    2023-03-17  156.080002  156.740005  154.279999  155.000000  154.177048   \n",
       "..          ...         ...         ...         ...         ...         ...   \n",
       "245  2024-03-04  176.149994  176.899994  173.789993  175.100006  175.100006   \n",
       "246  2024-03-05  170.759995  172.039993  169.619995  170.119995  170.119995   \n",
       "247  2024-03-06  171.059998  171.240005  168.679993  169.119995  169.119995   \n",
       "248  2024-03-07  169.149994  170.729996  168.490005  169.000000  169.000000   \n",
       "249  2024-03-08  169.000000  173.699997  168.940002  170.729996  170.729996   \n",
       "\n",
       "       Volume  \n",
       "0    84457100  \n",
       "1    73695900  \n",
       "2    77167900  \n",
       "3    76161100  \n",
       "4    98944600  \n",
       "..        ...  \n",
       "245  81510100  \n",
       "246  95132400  \n",
       "247  68587700  \n",
       "248  71765100  \n",
       "249  76114600  \n",
       "\n",
       "[250 rows x 7 columns]>"
      ]
     },
     "execution_count": 5,
     "metadata": {},
     "output_type": "execute_result"
    }
   ],
   "source": [
    "df.head"
   ]
  },
  {
   "cell_type": "code",
   "execution_count": 6,
   "id": "5e2c292c",
   "metadata": {},
   "outputs": [
    {
     "data": {
      "text/plain": [
       "Index(['Date', 'Open', 'High', 'Low', 'Close', 'Adj Close', 'Volume'], dtype='object')"
      ]
     },
     "execution_count": 6,
     "metadata": {},
     "output_type": "execute_result"
    }
   ],
   "source": [
    "df.columns"
   ]
  },
  {
   "cell_type": "code",
   "execution_count": 9,
   "id": "553d1221",
   "metadata": {},
   "outputs": [
    {
     "data": {
      "text/plain": [
       "Date         0\n",
       "Open         0\n",
       "High         0\n",
       "Low          0\n",
       "Close        0\n",
       "Adj Close    0\n",
       "Volume       0\n",
       "dtype: int64"
      ]
     },
     "execution_count": 9,
     "metadata": {},
     "output_type": "execute_result"
    }
   ],
   "source": [
    "df.isnull().sum()"
   ]
  },
  {
   "cell_type": "code",
   "execution_count": 10,
   "id": "b72aec3c",
   "metadata": {},
   "outputs": [
    {
     "data": {
      "text/plain": [
       "<bound method NDFrame.describe of            Date        Open        High         Low       Close   Adj Close  \\\n",
       "0    2023-03-13  147.809998  153.139999  147.699997  150.470001  149.671097   \n",
       "1    2023-03-14  151.279999  153.399994  150.100006  152.589996  151.779846   \n",
       "2    2023-03-15  151.190002  153.250000  149.919998  152.990005  152.177719   \n",
       "3    2023-03-16  152.160004  156.460007  151.639999  155.850006  155.022537   \n",
       "4    2023-03-17  156.080002  156.740005  154.279999  155.000000  154.177048   \n",
       "..          ...         ...         ...         ...         ...         ...   \n",
       "245  2024-03-04  176.149994  176.899994  173.789993  175.100006  175.100006   \n",
       "246  2024-03-05  170.759995  172.039993  169.619995  170.119995  170.119995   \n",
       "247  2024-03-06  171.059998  171.240005  168.679993  169.119995  169.119995   \n",
       "248  2024-03-07  169.149994  170.729996  168.490005  169.000000  169.000000   \n",
       "249  2024-03-08  169.000000  173.699997  168.940002  170.729996  170.729996   \n",
       "\n",
       "       Volume  \n",
       "0    84457100  \n",
       "1    73695900  \n",
       "2    77167900  \n",
       "3    76161100  \n",
       "4    98944600  \n",
       "..        ...  \n",
       "245  81510100  \n",
       "246  95132400  \n",
       "247  68587700  \n",
       "248  71765100  \n",
       "249  76114600  \n",
       "\n",
       "[250 rows x 7 columns]>"
      ]
     },
     "execution_count": 10,
     "metadata": {},
     "output_type": "execute_result"
    }
   ],
   "source": [
    "df.describe"
   ]
  },
  {
   "cell_type": "markdown",
   "id": "050f1a5c",
   "metadata": {},
   "source": [
    "# data visualization"
   ]
  },
  {
   "cell_type": "code",
   "execution_count": 19,
   "id": "b492aaf8",
   "metadata": {},
   "outputs": [
    {
     "data": {
      "image/png": "[encoded data removed]",
      "text/plain": [
       "<Figure size 1000x400 with 1 Axes>"
      ]
     },
     "metadata": {},
     "output_type": "display_data"
    }
   ],
   "source": [
    "plt.figure(figsize=(10,4))\n",
    "plt.title(\"Apple Stocks Graph\")\n",
    "plt.xlabel(\"Date\")\n",
    "plt.ylabel(\"Close\")\n",
    "plt.plot(df[\"Close\"])\n",
    "plt.show()"
   ]
  },
  {
   "cell_type": "code",
   "execution_count": null,
   "id": "aed75476",
   "metadata": {},
   "outputs": [],
   "source": []
  },
  {
   "cell_type": "code",
   "execution_count": 25,
   "id": "18e6d553",
   "metadata": {},
   "outputs": [
    {
     "name": "stdout",
     "output_type": "stream",
     "text": [
      "               Open      High       Low     Close  Adj Close    Volume\n",
      "Open       1.000000  0.994651  0.994923  0.987319   0.987307 -0.194722\n",
      "High       0.994651  1.000000  0.995145  0.994500   0.994369 -0.164593\n",
      "Low        0.994923  0.995145  1.000000  0.995221   0.994885 -0.215146\n",
      "Close      0.987319  0.994500  0.995221  1.000000   0.999744 -0.196332\n",
      "Adj Close  0.987307  0.994369  0.994885  0.999744   1.000000 -0.194548\n",
      "Volume    -0.194722 -0.164593 -0.215146 -0.196332  -0.194548  1.000000\n"
     ]
    },
    {
     "name": "stderr",
     "output_type": "stream",
     "text": [
      "/var/folders/62/d57bp4nd46q8f2jqy6yhv51m0000gn/T/ipykernel_19364/2458726984.py:1: FutureWarning: The default value of numeric_only in DataFrame.corr is deprecated. In a future version, it will default to False. Select only valid columns or specify the value of numeric_only to silence this warning.\n",
      "  print(df.corr())\n",
      "/var/folders/62/d57bp4nd46q8f2jqy6yhv51m0000gn/T/ipykernel_19364/2458726984.py:2: FutureWarning: The default value of numeric_only in DataFrame.corr is deprecated. In a future version, it will default to False. Select only valid columns or specify the value of numeric_only to silence this warning.\n",
      "  sns.heatmap(df.corr())\n"
     ]
    },
    {
     "data": {
      "image/png": "[encoded data removed]",
      "text/plain": [
       "<Figure size 640x480 with 2 Axes>"
      ]
     },
     "metadata": {},
     "output_type": "display_data"
    }
   ],
   "source": [
    "print(df.corr())\n",
    "sns.heatmap(df.corr())\n",
    "plt.show()"
   ]
  },
  {
   "cell_type": "code",
   "execution_count": null,
   "id": "840f52cf",
   "metadata": {},
   "outputs": [],
   "source": []
  },
  {
   "cell_type": "code",
   "execution_count": 28,
   "id": "e3dd4b0c",
   "metadata": {},
   "outputs": [],
   "source": [
    "x = df[[\"Open\", \"High\", \"Low\"]]\n",
    "y = df[\"Close\"]\n",
    "x = x.to_numpy()\n",
    "y = y.to_numpy()\n",
    "y = y.reshape(-1, 1)\n",
    "\n",
    "from sklearn.model_selection import train_test_split\n",
    "xtrain, xtest, ytrain, ytest = train_test_split(x, y, test_size=0.2, random_state=42)"
   ]
  },
  {
   "cell_type": "code",
   "execution_count": null,
   "id": "c4f21f50",
   "metadata": {},
   "outputs": [],
   "source": []
  },
  {
   "cell_type": "code",
   "execution_count": 29,
   "id": "80ba2039",
   "metadata": {},
   "outputs": [
    {
     "name": "stdout",
     "output_type": "stream",
     "text": [
      "   Predicted Rate\n",
      "0      173.970001\n",
      "1      157.649994\n",
      "2      194.500000\n",
      "3      178.179993\n",
      "4      178.720001\n"
     ]
    }
   ],
   "source": [
    "from sklearn.tree import DecisionTreeRegressor\n",
    "model = DecisionTreeRegressor()\n",
    "model.fit(xtrain, ytrain)\n",
    "ypred = model.predict(xtest)\n",
    "data = pd.DataFrame(data={\"Predicted Rate\": ypred})\n",
    "print(data.head())"
   ]
  },
  {
   "cell_type": "code",
   "execution_count": null,
   "id": "4bd58ed5",
   "metadata": {},
   "outputs": [],
   "source": []
  }
 ],
 "metadata": {
  "kernelspec": {
   "display_name": "Python 3 (ipykernel)",
   "language": "python",
   "name": "python3"
  },
  "language_info": {
   "codemirror_mode": {
    "name": "ipython",
    "version": 3
   },
   "file_extension": ".py",
   "mimetype": "text/x-python",
   "name": "python",
   "nbconvert_exporter": "python",
   "pygments_lexer": "ipython3",
   "version": "3.11.4"
  }
 },
 "nbformat": 4,
 "nbformat_minor": 5
}
